{
 "cells": [
  {
   "cell_type": "code",
   "execution_count": 3,
   "id": "9a845ca7-4fc9-4125-8d47-3a9432458ca1",
   "metadata": {},
   "outputs": [],
   "source": [
    "a=10"
   ]
  },
  {
   "cell_type": "code",
   "execution_count": 5,
   "id": "ee421fb5-9465-4df5-9359-14c514d2f1d0",
   "metadata": {},
   "outputs": [
    {
     "name": "stdout",
     "output_type": "stream",
     "text": [
      "30\n"
     ]
    }
   ],
   "source": [
    "print(a+20)"
   ]
  },
  {
   "cell_type": "markdown",
   "id": "171be754-abf2-4420-83ca-5eae93889704",
   "metadata": {},
   "source": [
    "This is a test example"
   ]
  },
  {
   "cell_type": "code",
   "execution_count": 50,
   "id": "09753183-48ae-4b7b-90ad-b622eaee3a0f",
   "metadata": {},
   "outputs": [],
   "source": [
    "# This is a single line comment"
   ]
  },
  {
   "cell_type": "code",
   "execution_count": 57,
   "id": "1c8a24aa-c9f3-4bee-a536-67b2233f5042",
   "metadata": {},
   "outputs": [
    {
     "name": "stdout",
     "output_type": "stream",
     "text": [
      "sid\n"
     ]
    }
   ],
   "source": [
    "\"\"\" \n",
    "hi\n",
    "all \n",
    "\"\"\"\n",
    "print(\"sid\")"
   ]
  },
  {
   "cell_type": "code",
   "execution_count": 58,
   "id": "078e27bf-77da-496c-a6cc-39210e2965fe",
   "metadata": {},
   "outputs": [
    {
     "name": "stdout",
     "output_type": "stream",
     "text": [
      "Sid\n"
     ]
    }
   ],
   "source": [
    "a=\"Sid\"\n",
    "print(a)"
   ]
  },
  {
   "cell_type": "code",
   "execution_count": 60,
   "id": "d5a1cf11-978c-4efb-bb21-7800c320b9ef",
   "metadata": {},
   "outputs": [
    {
     "data": {
      "text/plain": [
       "str"
      ]
     },
     "execution_count": 60,
     "metadata": {},
     "output_type": "execute_result"
    }
   ],
   "source": [
    "type(a)"
   ]
  },
  {
   "cell_type": "code",
   "execution_count": 62,
   "id": "38db61b4-7cb1-45b2-a04a-242553687c43",
   "metadata": {},
   "outputs": [
    {
     "data": {
      "text/plain": [
       "float"
      ]
     },
     "execution_count": 62,
     "metadata": {},
     "output_type": "execute_result"
    }
   ],
   "source": [
    "decimal_num=2.5\n",
    "type(decimal_num)"
   ]
  },
  {
   "cell_type": "code",
   "execution_count": 68,
   "id": "72050613-0b8d-493f-925d-92ef3039bf80",
   "metadata": {},
   "outputs": [
    {
     "data": {
      "text/plain": [
       "False"
      ]
     },
     "execution_count": 68,
     "metadata": {},
     "output_type": "execute_result"
    }
   ],
   "source": [
    "True and False"
   ]
  },
  {
   "cell_type": "code",
   "execution_count": 70,
   "id": "5fdb2240-342b-45fc-8a54-fe602830bbf8",
   "metadata": {},
   "outputs": [
    {
     "data": {
      "text/plain": [
       "False"
      ]
     },
     "execution_count": 70,
     "metadata": {},
     "output_type": "execute_result"
    }
   ],
   "source": [
    "bool(0)"
   ]
  },
  {
   "cell_type": "markdown",
   "id": "fb573e67-731e-4a4f-8a42-63e450690a19",
   "metadata": {},
   "source": [
    "# Dynamic Typing"
   ]
  },
  {
   "cell_type": "code",
   "execution_count": 73,
   "id": "ae1d88d1-d538-4871-81ef-f334aca56a74",
   "metadata": {},
   "outputs": [],
   "source": [
    "a=12\n",
    "str1=\"Sid\"\n",
    "str1=23.4"
   ]
  },
  {
   "cell_type": "code",
   "execution_count": 75,
   "id": "c0593796-990c-4fdc-a8e8-36f83015ac35",
   "metadata": {},
   "outputs": [
    {
     "name": "stdout",
     "output_type": "stream",
     "text": [
      "<class 'float'>\n"
     ]
    }
   ],
   "source": [
    "print(type(str1))"
   ]
  },
  {
   "cell_type": "markdown",
   "id": "94812d0a-b294-4eaa-9ba8-20b5dbca2ef2",
   "metadata": {},
   "source": [
    "# Concatenation"
   ]
  },
  {
   "cell_type": "code",
   "execution_count": 77,
   "id": "1c229e3a-e5df-4766-bda9-dad6d38394b0",
   "metadata": {},
   "outputs": [
    {
     "data": {
      "text/plain": [
       "'11'"
      ]
     },
     "execution_count": 77,
     "metadata": {},
     "output_type": "execute_result"
    }
   ],
   "source": [
    "\"1\"+\"1\""
   ]
  },
  {
   "cell_type": "code",
   "execution_count": 78,
   "id": "03c69a63-83bf-4454-9b96-3b8baa0ced7d",
   "metadata": {},
   "outputs": [
    {
     "data": {
      "text/plain": [
       "'11'"
      ]
     },
     "execution_count": 78,
     "metadata": {},
     "output_type": "execute_result"
    }
   ],
   "source": [
    "\"1\"*2"
   ]
  },
  {
   "cell_type": "code",
   "execution_count": 79,
   "id": "a7b3b444-debe-49ce-92ea-4478d49cb12c",
   "metadata": {},
   "outputs": [
    {
     "data": {
      "text/plain": [
       "'sidhu'"
      ]
     },
     "execution_count": 79,
     "metadata": {},
     "output_type": "execute_result"
    }
   ],
   "source": [
    "\"sid\"+\"hu\""
   ]
  },
  {
   "cell_type": "code",
   "execution_count": 82,
   "id": "11001e5f-de17-40da-a887-e1e48a9ed8b3",
   "metadata": {},
   "outputs": [
    {
     "ename": "TypeError",
     "evalue": "unsupported operand type(s) for +: 'int' and 'str'",
     "output_type": "error",
     "traceback": [
      "\u001b[0;31m---------------------------------------------------------------------------\u001b[0m",
      "\u001b[0;31mTypeError\u001b[0m                                 Traceback (most recent call last)",
      "Cell \u001b[0;32mIn[82], line 1\u001b[0m\n\u001b[0;32m----> 1\u001b[0m \u001b[38;5;241;43m1\u001b[39;49m\u001b[38;5;241;43m+\u001b[39;49m\u001b[38;5;124;43m\"\u001b[39;49m\u001b[38;5;124;43msid\u001b[39;49m\u001b[38;5;124;43m\"\u001b[39;49m \u001b[38;5;66;03m# numercial value and string cannot be concatenated\u001b[39;00m\n",
      "\u001b[0;31mTypeError\u001b[0m: unsupported operand type(s) for +: 'int' and 'str'"
     ]
    }
   ],
   "source": [
    "1+\"sid\" # numercial value and string cannot be concatenated"
   ]
  }
 ],
 "metadata": {
  "kernelspec": {
   "display_name": "Python 3 (ipykernel)",
   "language": "python",
   "name": "python3"
  },
  "language_info": {
   "codemirror_mode": {
    "name": "ipython",
    "version": 3
   },
   "file_extension": ".py",
   "mimetype": "text/x-python",
   "name": "python",
   "nbconvert_exporter": "python",
   "pygments_lexer": "ipython3",
   "version": "3.10.8"
  }
 },
 "nbformat": 4,
 "nbformat_minor": 5
}
